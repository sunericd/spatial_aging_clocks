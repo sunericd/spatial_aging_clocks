{
 "cells": [
  {
   "cell_type": "markdown",
   "id": "e708ba48",
   "metadata": {},
   "source": [
    "# Metadata integration across all datasets\n",
    "\n",
    "This notebook assembles all metadata for Supplementary Table on sample information from the MERFISH datasets generated in this project (coronal sections for aging, sagittal sections for aging, coronal sections for exercise, coronal sections for partial reprogramming).\n",
    "\n",
    "**Associated manuscript figures/tables:**\n",
    "- Supplementary Table 4\n",
    "\n",
    "**Inputs required:**\n",
    "- `data/integrated_aging_coronal_celltyped_regioned_raw.h5ad` - AnnData object for coronal sections dataset\n",
    "- `data/integrated_aging_sagittal_clustered_registered_raw.h5ad` - AnnData object for sagittal sections dataset\n",
    "- `data/integrated_exercise_coronal_celltyped_regioned_raw.h5ad` - AnnData object for exercise dataset\n",
    "- `data/integrated_reprogramming_coronal_celltyped_regioned_raw.h5ad` - AnnData object for reprogramming dataset\n",
    "\n",
    "**Conda environment used**: `requirements/merfish.txt`"
   ]
  },
  {
   "cell_type": "code",
   "execution_count": 1,
   "id": "c03218d6",
   "metadata": {},
   "outputs": [],
   "source": [
    "import scanpy as sc\n",
    "import pandas as pd\n",
    "import os\n",
    "import numpy as np"
   ]
  },
  {
   "cell_type": "code",
   "execution_count": 2,
   "id": "6789fd3f",
   "metadata": {},
   "outputs": [],
   "source": [
    "cols = [\"mouse_id\", \"age\", \"slide_id\", \"cohort\"]\n",
    "rows = []"
   ]
  },
  {
   "cell_type": "code",
   "execution_count": 3,
   "id": "1b04388b",
   "metadata": {},
   "outputs": [],
   "source": [
    "# Coronal aging\n",
    "adata = sc.read_h5ad(\"data/integrated_aging_coronal_celltyped_regioned_raw.h5ad\")"
   ]
  },
  {
   "cell_type": "code",
   "execution_count": 4,
   "id": "e132a035",
   "metadata": {},
   "outputs": [],
   "source": [
    "for mid in np.unique(adata.obs.mouse_id):\n",
    "    sub_adata = adata[adata.obs.mouse_id==mid]\n",
    "    row = []\n",
    "    for col in cols:\n",
    "        row.append(sub_adata.obs[col].values[0])\n",
    "    row.append(sub_adata.shape[1])\n",
    "    row.append(sub_adata.shape[0])\n",
    "    rows.append(row)"
   ]
  },
  {
   "cell_type": "code",
   "execution_count": 5,
   "id": "c99e605c",
   "metadata": {},
   "outputs": [],
   "source": [
    "# Sagittal aging\n",
    "adata = sc.read_h5ad(\"data/integrated_aging_sagittal_clustered_registered.h5ad\")"
   ]
  },
  {
   "cell_type": "code",
   "execution_count": 6,
   "id": "8ae5f949",
   "metadata": {},
   "outputs": [],
   "source": [
    "for mid in np.unique(adata.obs.mouse_id):\n",
    "    sub_adata = adata[adata.obs.mouse_id==mid]\n",
    "    row = []\n",
    "    for col in cols:\n",
    "        row.append(sub_adata.obs[col].values[0])\n",
    "    row.append(sub_adata.shape[1])\n",
    "    row.append(sub_adata.shape[0])\n",
    "    rows.append(row)"
   ]
  },
  {
   "cell_type": "code",
   "execution_count": 7,
   "id": "4b85ab9a",
   "metadata": {},
   "outputs": [],
   "source": [
    "# Exercise\n",
    "adata = sc.read_h5ad(\"data/integrated_exercise_coronal_celltyped_regioned_raw.h5ad\")"
   ]
  },
  {
   "cell_type": "code",
   "execution_count": 8,
   "id": "e9c86708",
   "metadata": {},
   "outputs": [],
   "source": [
    "for mid in np.unique(adata.obs.mouse_id):\n",
    "    sub_adata = adata[adata.obs.mouse_id==mid]\n",
    "    row = []\n",
    "    for col in cols:\n",
    "        row.append(sub_adata.obs[col].values[0])\n",
    "    row.append(sub_adata.shape[1])\n",
    "    row.append(sub_adata.shape[0])\n",
    "    rows.append(row)"
   ]
  },
  {
   "cell_type": "code",
   "execution_count": 9,
   "id": "c10d4f3b",
   "metadata": {},
   "outputs": [],
   "source": [
    "# Reprogramming\n",
    "adata = sc.read_h5ad(\"data/integrated_reprogramming_coronal_clustered.h5ad\")"
   ]
  },
  {
   "cell_type": "code",
   "execution_count": 10,
   "id": "fd57ca8a",
   "metadata": {},
   "outputs": [],
   "source": [
    "for mid in np.unique(adata.obs.mouse_id):\n",
    "    sub_adata = adata[adata.obs.mouse_id==mid]\n",
    "    row = []\n",
    "    for col in cols:\n",
    "        row.append(sub_adata.obs[col].values[0])\n",
    "    row.append(sub_adata.shape[1])\n",
    "    row.append(sub_adata.shape[0])\n",
    "    rows.append(row)"
   ]
  },
  {
   "cell_type": "code",
   "execution_count": 13,
   "id": "e59011d2",
   "metadata": {},
   "outputs": [],
   "source": [
    "df = pd.DataFrame(rows, columns=cols+[\"num_genes\",\"num_cells\"])\n",
    "df.to_csv(\"supp_tables/TableS4_SampleInformation.csv\", index=None)"
   ]
  }
 ],
 "metadata": {
  "kernelspec": {
   "display_name": "merfish",
   "language": "python",
   "name": "merfish"
  },
  "language_info": {
   "codemirror_mode": {
    "name": "ipython",
    "version": 3
   },
   "file_extension": ".py",
   "mimetype": "text/x-python",
   "name": "python",
   "nbconvert_exporter": "python",
   "pygments_lexer": "ipython3",
   "version": "3.8.13"
  }
 },
 "nbformat": 4,
 "nbformat_minor": 5
}
