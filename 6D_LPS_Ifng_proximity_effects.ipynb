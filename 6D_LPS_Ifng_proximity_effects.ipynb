{
 "cells": [
  {
   "cell_type": "markdown",
   "id": "74eae0af",
   "metadata": {},
   "source": [
    "# Proximity Effect Analysis for LPS dataset\n",
    "\n",
    "This notebook contains all experiments relating to computing and characterizing cell proximity effects in the LPS dataset for T cells. It uses the spatial aging clocks to compute age acceleration for the analysis.\n",
    "\n",
    "**Associated manuscript figures/tables:**\n",
    "- Extended Data Figures: 10c\n",
    "\n",
    "**Inputs required:**\n",
    "- `results/clocks/anndata/allen_aging_lps_spatialsmooth_spage.h5ad` - AnnData object for LPS data with spatial aging clock predictions (generated from `4A_application_to_interventions.ipynb`)\n",
    "\n",
    "**Conda environment used**: `requirements/merfish.txt`"
   ]
  },
  {
   "cell_type": "code",
   "execution_count": 1,
   "id": "ac9486e7",
   "metadata": {},
   "outputs": [],
   "source": [
    "import numpy as np\n",
    "import pandas as pd\n",
    "import scanpy as sc\n",
    "import squidpy as sq\n",
    "import anndata as ad\n",
    "from scipy.stats import pearsonr, spearmanr, ttest_ind\n",
    "import pickle\n",
    "import os\n",
    "import matplotlib.pyplot as plt\n",
    "import matplotlib\n",
    "matplotlib.rcParams['pdf.fonttype'] = 42\n",
    "matplotlib.rcParams['ps.fonttype'] = 42\n",
    "from matplotlib.collections import PatchCollection\n",
    "from matplotlib.colors import ListedColormap\n",
    "import seaborn as sns\n",
    "sns.set_style(\"ticks\")\n",
    "from sklearn.neighbors import BallTree\n",
    "\n",
    "from scipy.stats import mannwhitneyu, ttest_ind\n",
    "from statsmodels.stats.multitest import multipletests\n",
    "from decimal import Decimal\n",
    "\n",
    "from ageaccel_proximity import *"
   ]
  },
  {
   "cell_type": "code",
   "execution_count": 2,
   "id": "6416fcb1",
   "metadata": {},
   "outputs": [],
   "source": [
    "restricted_celltype_subset = ['Neuron-Excitatory','Neuron-MSN','Astrocyte','Microglia','Oligodendrocyte','OPC','Endothelial','Pericyte','VSMC','Ependymal','Neuroblast','NSC','Macrophage', 'T cell']\n",
    "\n",
    "celltypes_full = ['Neuron-Excitatory', 'Neuron-Inhibitory', 'Neuron-MSN',\n",
    "                    'Astrocyte', 'Microglia', 'Oligodendrocyte', 'OPC',\n",
    "                    'Endothelial', 'Pericyte', 'VSMC', 'VLMC',\n",
    "                    'Ependymal', 'Neuroblast', 'NSC', \n",
    "                    'Macrophage', 'Neutrophil','T cell', 'B cell']"
   ]
  },
  {
   "cell_type": "markdown",
   "id": "6fa1c3a0",
   "metadata": {},
   "source": [
    "## LPS Proximity Analysis"
   ]
  },
  {
   "cell_type": "code",
   "execution_count": 7,
   "id": "09135367",
   "metadata": {},
   "outputs": [],
   "source": [
    "cutoff = {'brain ventricle': 34.945657872703606, 'corpus callosum': 24.93541068867991, 'cortical layer II/III': 25.962599056294216, 'cortical layer V': 26.37559593552028, 'cortical layer VI': 23.691288263852037, 'olfactory region': 26.61249396836906, 'pia mater': 34.800221767412104, 'striatum': 22.51435665983618}"
   ]
  },
  {
   "cell_type": "code",
   "execution_count": 8,
   "id": "9f23aa5b",
   "metadata": {},
   "outputs": [
    {
     "name": "stderr",
     "output_type": "stream",
     "text": [
      "/local/scratch/edsun/slrmtmp.42755582/ipykernel_20749/765338297.py:6: ImplicitModificationWarning: Trying to modify attribute `.obs` of view, initializing view as actual.\n",
      "  adata.obs[\"cohort\"] = adata.obs[\"cohort\"].replace(\"aging\", \"control\")\n"
     ]
    }
   ],
   "source": [
    "adata = sc.read_h5ad(\"results/clocks/anndata/allen_aging_lps_spatialsmooth_spage.h5ad\")\n",
    "adata.obs[\"region\"] = adata.obs[\"tissue\"].copy()\n",
    "\n",
    "# subset into old group\n",
    "adata = adata[adata.obs.age==20.93]\n",
    "adata.obs[\"cohort\"] = adata.obs[\"cohort\"].replace(\"aging\", \"control\")"
   ]
  },
  {
   "cell_type": "code",
   "execution_count": 9,
   "id": "772f59d9",
   "metadata": {},
   "outputs": [
    {
     "name": "stdout",
     "output_type": "stream",
     "text": [
      "0.0007992385879711542\n",
      "0.000557013731232435\n"
     ]
    }
   ],
   "source": [
    "# Check T cell proportions\n",
    "print(np.sum((adata.obs.celltype==\"T cell\")&(adata.obs.cohort==\"control\"))/np.sum(adata.obs.cohort==\"control\"))\n",
    "print(np.sum((adata.obs.celltype==\"T cell\")&(adata.obs.cohort==\"lps\"))/np.sum(adata.obs.cohort==\"lps\"))"
   ]
  },
  {
   "cell_type": "code",
   "execution_count": 20,
   "id": "e75aa3c4",
   "metadata": {},
   "outputs": [
    {
     "name": "stdout",
     "output_type": "stream",
     "text": [
      "0.017436952139717743\n"
     ]
    },
    {
     "data": {
      "image/png": "[encoded data removed]",
      "text/plain": [
       "<Figure size 300x400 with 1 Axes>"
      ]
     },
     "metadata": {},
     "output_type": "display_data"
    }
   ],
   "source": [
    "# Check expression of genes in T cells across conditions\n",
    "\n",
    "signames = [\"Ifng\"]\n",
    "marker_names = [\"control\", \"lps\"]\n",
    "obs_key = \"cohort\"\n",
    "celltype = \"T cell\"\n",
    "\n",
    "exp_palette = {\n",
    "    \"lps\":\"#e75480\", # forestgreen lightgreen\n",
    "    \"control\":\"#FEAF00\"\n",
    "}\n",
    "\n",
    "pvalues = []\n",
    "ustats = []\n",
    "\n",
    "#-----------------------------\n",
    "\n",
    "filtered_adata = adata[adata.obs.celltype==celltype]\n",
    "\n",
    "for signame in signames:\n",
    "\n",
    "    tag = signame\n",
    "\n",
    "    sigvals = np.array(filtered_adata[:,signame].X).flatten()\n",
    "\n",
    "    x_labels = np.concatenate([[x]*np.sum(filtered_adata.obs[obs_key]==x) for x in marker_names])\n",
    "    y_values = np.concatenate([sigvals[filtered_adata.obs[obs_key]==x] for x in marker_names]).flatten()\n",
    "    df = pd.DataFrame(np.vstack((x_labels,y_values)).T, columns=[\"label\",\"expression\"])\n",
    "    df[\"expression\"] = df[\"expression\"].astype('float')\n",
    "\n",
    "    fig, ax = plt.subplots(figsize=(3,4))\n",
    "\n",
    "    sns.boxplot(df,x=\"label\",y=\"expression\",palette=exp_palette)\n",
    "\n",
    "    # statistical annotation\n",
    "    x_coords = [0.5]\n",
    "    y_coords = [np.max(df[\"expression\"])*1.1]\n",
    "    cols = ['k']\n",
    "    h = 0\n",
    "    w = 0.5\n",
    "    # get p-value from TISSUE results\n",
    "    u, p = mannwhitneyu(df[df[\"label\"]==marker_names[0]][\"expression\"],\n",
    "                     df[df[\"label\"]==marker_names[1]][\"expression\"])\n",
    "    print(np.mean(df[df[\"label\"]==marker_names[0]][\"expression\"])-np.mean(df[df[\"label\"]==marker_names[1]][\"expression\"]))\n",
    "    pvalues.append(p)\n",
    "    ustats.append(np.mean(df[df[\"label\"]==marker_names[0]][\"expression\"])-np.mean(df[df[\"label\"]==marker_names[1]][\"expression\"]))\n",
    "    pval_labels = [p]\n",
    "    for i, label in enumerate(pval_labels):\n",
    "        p_label = \"P = \"+ '%.2E' % Decimal(str(label))\n",
    "        x1, x2, y, col = x_coords[i]-w, x_coords[i]+w, y_coords[i], cols[i]\n",
    "        plt.plot([x1, x1, x2, x2], [y, y+h, y+h, y], lw=1.5, c=col)\n",
    "        plt.text((x1+x2)*.5, y+h, p_label, ha='center', va='bottom', color=col, fontsize=12)\n",
    "    plt.ylim([None,np.max(df[\"expression\"])*1.2])\n",
    "\n",
    "    plt.title(f\"{signame}\", fontsize=16)\n",
    "    plt.ylabel(f\"Normalized Expression Z-score\", fontsize=16)\n",
    "    plt.xlabel(f\"Condition\", fontsize=16)\n",
    "    plt.xticks(fontsize=14)\n",
    "    plt.yticks(fontsize=14)\n",
    "    plt.tight_layout()\n",
    "    plt.savefig(f\"plots/mechanism/lps_ViolinGene_{celltype}_{tag}_{method}.pdf\",\n",
    "               bbox_inches='tight')\n",
    "    plt.show()"
   ]
  },
  {
   "cell_type": "code",
   "execution_count": 13,
   "id": "323ff97d",
   "metadata": {},
   "outputs": [],
   "source": [
    "get_age_acceleration (adata)"
   ]
  },
  {
   "cell_type": "code",
   "execution_count": 14,
   "id": "ead4c97f",
   "metadata": {},
   "outputs": [],
   "source": [
    "# Compute nearest to cell type distances\n",
    "nearest_distance_to_celltype(adata,\n",
    "                             celltype_list=pd.unique(adata.obs.celltype).sort_values(),\n",
    "                             sub_id=\"mouse_id\")"
   ]
  },
  {
   "cell_type": "code",
   "execution_count": 15,
   "id": "605feedd",
   "metadata": {},
   "outputs": [],
   "source": [
    "adata_celltypes = np.unique(adata.obs.celltype)\n",
    "\n",
    "cell_pairs_to_show = []\n",
    "for ct in [\"T cell\"]:\n",
    "    for ct2 in [x for x in restricted_celltype_subset if x in adata_celltypes]:\n",
    "        cell_pairs_to_show.append((ct, ct2))"
   ]
  },
  {
   "cell_type": "code",
   "execution_count": 16,
   "id": "98ea9518",
   "metadata": {},
   "outputs": [],
   "source": [
    "condition = 'cohort'\n",
    "\n",
    "####################################\n",
    "\n",
    "cond_df = pd.DataFrame([])\n",
    "\n",
    "cutoff_multiplier = 1\n",
    "\n",
    "for celltype, ct in cell_pairs_to_show:\n",
    "        \n",
    "    for cond in np.unique(adata.obs[condition]):\n",
    "        \n",
    "        sub_adata = adata[(adata.obs[\"celltype\"]==ct)&(adata.obs[condition]==cond)]\n",
    "\n",
    "        # get paired proximity sets\n",
    "        near_ages = get_paired_proximity_labels(sub_adata, cutoff, celltype, cutoff_multiplier=cutoff_multiplier)\n",
    "        near_freq = np.mean(near_ages==\"Near\")\n",
    "\n",
    "        # run test\n",
    "        df = get_stats_df(sub_adata, near_ages, cutoff_multiplier, celltype, ct,\n",
    "                          adata[adata.obs[condition]==cond], label=cond,\n",
    "                          min_pairs=10)\n",
    "        \n",
    "        cond_df = pd.concat((cond_df, df))"
   ]
  },
  {
   "cell_type": "code",
   "execution_count": 17,
   "id": "adfa65cb",
   "metadata": {},
   "outputs": [
    {
     "name": "stderr",
     "output_type": "stream",
     "text": [
      "/local/scratch/edsun/slrmtmp.42755582/ipykernel_20749/981082226.py:9: FutureWarning: The `inplace` parameter in pandas.Categorical.reorder_categories is deprecated and will be removed in a future version. Reordering categories will always return a new Categorical object.\n",
      "  cond_df['label'].cat.reorder_categories(['Old Control', 'Old LPS'], inplace=True)\n"
     ]
    }
   ],
   "source": [
    "# Create condition tags\n",
    "map_cond = {\n",
    "    \"control\": \"Old Control\",\n",
    "    \"lps\": \"Old LPS\",\n",
    "}\n",
    "cond_df[\"label\"] = [map_cond[x] for x in cond_df[\"label\"]]\n",
    "# re-order categories\n",
    "cond_df['label'] = cond_df['label'].astype('category')\n",
    "cond_df['label'].cat.reorder_categories(['Old Control', 'Old LPS'], inplace=True)\n",
    "\n",
    "\n",
    "cond_df[\"Near Cell Conditioned\"] = cond_df[\"Near Cell\"].astype(str)+\" (\"+cond_df[\"label\"].astype(str)+\")\""
   ]
  },
  {
   "cell_type": "code",
   "execution_count": 19,
   "id": "0a4ef754",
   "metadata": {},
   "outputs": [
    {
     "name": "stderr",
     "output_type": "stream",
     "text": [
      "/local/scratch/edsun/slrmtmp.42755582/ipykernel_20749/1190486393.py:29: FutureWarning: Passing `palette` without assigning `hue` is deprecated.\n",
      "  g = sns.catplot(\n"
     ]
    },
    {
     "data": {
      "image/png": "[encoded data removed]",
      "text/plain": [
       "<Figure size 480x400 with 1 Axes>"
      ]
     },
     "metadata": {},
     "output_type": "display_data"
    }
   ],
   "source": [
    "celltypes = []\n",
    "average_effects = []\n",
    "colors = []\n",
    "\n",
    "\n",
    "effector_cells = [\"T cell (Old Control)\", \"T cell (Old LPS)\"]\n",
    "\n",
    "sub_cond_df = cond_df[cond_df['Near Cell Conditioned'].isin(effector_cells)].copy()\n",
    "sub_cond_df[\"Near Cell Conditioned\"] = [x.split(\" (\")[0]+\"\\n(\"+x.split(\" (\")[1] for x in sub_cond_df[\"Near Cell Conditioned\"]]\n",
    "\n",
    "\n",
    "for ct in np.unique(sub_cond_df[\"Near Cell Conditioned\"]):\n",
    "    average_effect = np.nanmean(sub_cond_df[sub_cond_df[\"Near Cell Conditioned\"]==ct][\"Aging Effect\"])\n",
    "    if average_effect > 0:\n",
    "        color = 'Pro-Aging'\n",
    "    else:\n",
    "        color = 'Pro-Rejuvenation'\n",
    "    \n",
    "    celltypes.append(ct)\n",
    "    average_effects.append(average_effect)\n",
    "    colors.append(color)\n",
    "\n",
    "\n",
    "# Make Plot\n",
    "palette = {\n",
    "           \"T cell\\n(Old Control)\":\"#FEAF00\",\n",
    "           \"T cell\\n(Old LPS)\":\"#e75480\"}\n",
    "\n",
    "g = sns.catplot(\n",
    "    x=average_effects,\n",
    "    y=celltypes,\n",
    "    palette=palette,\n",
    "    s=300,\n",
    "    order=[\"T cell\\n(Old Control)\", \"T cell\\n(Old LPS)\"],\n",
    "    height=4,\n",
    "    aspect=1.2\n",
    ")\n",
    "\n",
    "\n",
    "plt.axvline(0, color='k', linewidth=1, linestyle=\"--\")\n",
    "\n",
    "plt.ylabel(\"Condition\", fontsize=16)\n",
    "plt.xlabel(\"Average Proximity Effect\", fontsize=16)\n",
    "plt.xticks(fontsize=12)\n",
    "plt.yticks(fontsize=12)\n",
    "plt.tight_layout()\n",
    "plt.savefig(f\"plots/proximity/lps_average_aging_effect_tcell.pdf\",\n",
    "           bbox_inches='tight')\n",
    "plt.show()"
   ]
  },
  {
   "cell_type": "code",
   "execution_count": null,
   "id": "fe32e1af",
   "metadata": {},
   "outputs": [],
   "source": []
  }
 ],
 "metadata": {
  "kernelspec": {
   "display_name": "merfish",
   "language": "python",
   "name": "merfish"
  },
  "language_info": {
   "codemirror_mode": {
    "name": "ipython",
    "version": 3
   },
   "file_extension": ".py",
   "mimetype": "text/x-python",
   "name": "python",
   "nbconvert_exporter": "python",
   "pygments_lexer": "ipython3",
   "version": "3.8.13"
  }
 },
 "nbformat": 4,
 "nbformat_minor": 5
}
