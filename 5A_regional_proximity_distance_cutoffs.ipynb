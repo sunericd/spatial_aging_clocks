{
 "cells": [
  {
   "cell_type": "markdown",
   "id": "3633784e",
   "metadata": {},
   "source": [
    "# Unit distance cutoffs for proximity effect analysis\n",
    "\n",
    "This notebook computes the distance cutoffs used for the proximity effect analysis which is specific to each subregion and each dataset.\n",
    "\n",
    "**Inputs required:**\n",
    "- `results/clocks/anndata/lasso_loocv_predicted_age_correlation_n30_spatialsmoothonsmooth_alpha08_nneigh20.h5ad` - AnnData object for coronal sections data with spatial aging clock predictions (generated from `cv_train_clock.py`)\n",
    "- `results/clocks/anndata/exercise_spatialsmooth.h5ad` - AnnData object for exercise data with spatial aging clock predictions (generated from `4A_application_to_interventions.ipynb`)\n",
    "- `results/clocks/anndata/reprogramming_spatialsmooth.h5ad` - AnnData object for partial reprogramming data with spatial aging clock predictions (generated from `4A_application_to_interventions.ipynb`)\n",
    "- `results/clocks/anndata/allen_aging_lps_spatialsmooth_spage.h5ad` - AnnData object for LPS data with spatial aging clock predictions (generated from `4A_application_to_interventions.ipynb`)\n",
    "- `results/clocks/anndata/sagittal_spatialsmooth.h5ad` - AnnData object for sagittal sections data with spatial aging clock predictions (generated from `3E_clocks_external_validation.ipynb`)\n",
    "- `results/clocks/anndata/androvic_injuryMERFISH_spatialsmooth_spage.h5ad` - AnnData object for demyelination injury data with spatial aging clock predictions (generated from `4A_application_to_interventions.ipynb`)\n",
    "- `results/clocks/anndata/kukanja_ISSMS_spatialsmooth_spage.h5ad` - AnnData object for multiple sclerosis EAE data with spatial aging clock predictions (generated from `4A_application_to_interventions.ipynb`)\n",
    "\n",
    "\n",
    "**Conda environment used**: `requirements/merfish.txt`\n"
   ]
  },
  {
   "cell_type": "code",
   "execution_count": 2,
   "id": "201f8564",
   "metadata": {},
   "outputs": [],
   "source": [
    "import numpy as np\n",
    "import pandas as pd\n",
    "import scanpy as sc\n",
    "import squidpy as sq\n",
    "import anndata as ad\n",
    "from scipy.stats import pearsonr, spearmanr, ttest_ind\n",
    "import pickle\n",
    "import os\n",
    "import matplotlib.pyplot as plt\n",
    "import matplotlib\n",
    "matplotlib.rcParams['pdf.fonttype'] = 42\n",
    "matplotlib.rcParams['ps.fonttype'] = 42\n",
    "from matplotlib.collections import PatchCollection\n",
    "from matplotlib.colors import ListedColormap\n",
    "import seaborn as sns\n",
    "sns.set_style(\"ticks\")\n",
    "from sklearn.neighbors import BallTree\n",
    "\n",
    "from scipy.stats import mannwhitneyu, ttest_ind\n",
    "from decimal import Decimal\n",
    "\n",
    "from ageaccel_proximity import *"
   ]
  },
  {
   "cell_type": "markdown",
   "id": "d34887bf",
   "metadata": {},
   "source": [
    "## Calibrating neighborhood distances using spatial graphs"
   ]
  },
  {
   "cell_type": "code",
   "execution_count": null,
   "id": "be7c6142",
   "metadata": {},
   "outputs": [],
   "source": [
    "adata = sc.read_h5ad(\"results/clocks/anndata/lasso_loocv_predicted_age_correlation_n30_spatialsmoothonsmooth_alpha08_nneigh20.h5ad\")"
   ]
  },
  {
   "cell_type": "code",
   "execution_count": null,
   "id": "a12ed9f7",
   "metadata": {},
   "outputs": [],
   "source": [
    "# By region\n",
    "\n",
    "sub_id = \"region\"\n",
    "sub_id2 = \"mouse_id\"\n",
    "\n",
    "median_dist_dict = {}\n",
    "\n",
    "for sid in np.unique(adata.obs[sub_id]):\n",
    "    mean_dists = []\n",
    "    median_dists = []\n",
    "    for sid2 in np.unique(adata.obs[sub_id2]):\n",
    "        sub_adata = adata[(adata.obs[sub_id]==sid)&(adata.obs[sub_id2]==sid2)]\n",
    "        build_spatial_graph(sub_adata, method=\"delaunay\")\n",
    "        mean_dist = sub_adata.obsp['spatial_distances'][sub_adata.obsp['spatial_distances']>0].mean()\n",
    "        median_dist = np.median(np.array(sub_adata.obsp['spatial_distances'][sub_adata.obsp['spatial_distances']>0]).flatten())\n",
    "        mean_dists.append(mean_dist)\n",
    "        median_dists.append(median_dist)\n",
    "\n",
    "    median_dist_dict[sid] = np.mean(median_dists)"
   ]
  },
  {
   "cell_type": "code",
   "execution_count": 9,
   "id": "f2971f4d",
   "metadata": {},
   "outputs": [
    {
     "name": "stdout",
     "output_type": "stream",
     "text": [
      "{'CC/ACO': 24.887910095931538, 'CTX_L1/MEN': 25.91425280674148, 'CTX_L2/3': 24.04649324744985, 'CTX_L4/5/6': 27.243990001598508, 'STR_CP/ACB': 21.6499141249257, 'STR_LS/NDB': 20.355186196238336, 'VEN': 17.863153902391776}\n"
     ]
    }
   ],
   "source": [
    "print(median_dist_dict)"
   ]
  },
  {
   "cell_type": "markdown",
   "id": "6acd2290",
   "metadata": {},
   "source": [
    "### Batch-separated cutoffs"
   ]
  },
  {
   "cell_type": "code",
   "execution_count": null,
   "id": "79773cff",
   "metadata": {},
   "outputs": [],
   "source": [
    "adata = sc.read_h5ad(\"results/clocks/anndata/lasso_loocv_predicted_age_correlation_n30_spatialsmoothonsmooth_alpha08_nneigh20.h5ad\")\n",
    "adata = adata[adata.obs.batch==\"A\"]\n",
    "\n",
    "# By region\n",
    "\n",
    "sub_id = \"region\"\n",
    "sub_id2 = \"mouse_id\"\n",
    "\n",
    "median_dist_dict = {}\n",
    "\n",
    "for sid in np.unique(adata.obs[sub_id]):\n",
    "    mean_dists = []\n",
    "    median_dists = []\n",
    "    for sid2 in np.unique(adata.obs[sub_id2]):\n",
    "        sub_adata = adata[(adata.obs[sub_id]==sid)&(adata.obs[sub_id2]==sid2)]\n",
    "        build_spatial_graph(sub_adata, method=\"delaunay\")\n",
    "        mean_dist = sub_adata.obsp['spatial_distances'][sub_adata.obsp['spatial_distances']>0].mean()\n",
    "        median_dist = np.median(np.array(sub_adata.obsp['spatial_distances'][sub_adata.obsp['spatial_distances']>0]).flatten())\n",
    "        mean_dists.append(mean_dist)\n",
    "        median_dists.append(median_dist)\n",
    "\n",
    "    median_dist_dict[sid] = np.mean(median_dists)\n",
    "    \n",
    "print(median_dist_dict)"
   ]
  },
  {
   "cell_type": "code",
   "execution_count": null,
   "id": "b088aa76",
   "metadata": {},
   "outputs": [],
   "source": [
    "adata = sc.read_h5ad(\"results/clocks/anndata/lasso_loocv_predicted_age_correlation_n30_spatialsmoothonsmooth_alpha08_nneigh20.h5ad\")\n",
    "adata = adata[adata.obs.batch==\"B\"]\n",
    "\n",
    "# By region\n",
    "\n",
    "sub_id = \"region\"\n",
    "sub_id2 = \"mouse_id\"\n",
    "\n",
    "median_dist_dict = {}\n",
    "\n",
    "for sid in np.unique(adata.obs[sub_id]):\n",
    "    mean_dists = []\n",
    "    median_dists = []\n",
    "    for sid2 in np.unique(adata.obs[sub_id2]):\n",
    "        sub_adata = adata[(adata.obs[sub_id]==sid)&(adata.obs[sub_id2]==sid2)]\n",
    "        build_spatial_graph(sub_adata, method=\"delaunay\")\n",
    "        mean_dist = sub_adata.obsp['spatial_distances'][sub_adata.obsp['spatial_distances']>0].mean()\n",
    "        median_dist = np.median(np.array(sub_adata.obsp['spatial_distances'][sub_adata.obsp['spatial_distances']>0]).flatten())\n",
    "        mean_dists.append(mean_dist)\n",
    "        median_dists.append(median_dist)\n",
    "\n",
    "    median_dist_dict[sid] = np.mean(median_dists)\n",
    "    \n",
    "print(median_dist_dict)"
   ]
  },
  {
   "cell_type": "markdown",
   "id": "8440f8bb",
   "metadata": {},
   "source": [
    "# Exercise"
   ]
  },
  {
   "cell_type": "code",
   "execution_count": 2,
   "id": "2296a02c",
   "metadata": {},
   "outputs": [],
   "source": [
    "adata = sc.read_h5ad(\"results/clocks/anndata/exercise_spatialsmooth.h5ad\")"
   ]
  },
  {
   "cell_type": "code",
   "execution_count": null,
   "id": "47e0e552",
   "metadata": {},
   "outputs": [],
   "source": [
    "# By region\n",
    "\n",
    "sub_id = \"region\"\n",
    "sub_id2 = \"mouse_id\"\n",
    "\n",
    "median_dist_dict = {}\n",
    "\n",
    "for sid in np.unique(adata.obs[sub_id]):\n",
    "    mean_dists = []\n",
    "    median_dists = []\n",
    "    for sid2 in np.unique(adata.obs[sub_id2]):\n",
    "        sub_adata = adata[(adata.obs[sub_id]==sid)&(adata.obs[sub_id2]==sid2)]\n",
    "        build_spatial_graph(sub_adata, method=\"delaunay\")\n",
    "        mean_dist = sub_adata.obsp['spatial_distances'][sub_adata.obsp['spatial_distances']>0].mean()\n",
    "        median_dist = np.median(np.array(sub_adata.obsp['spatial_distances'][sub_adata.obsp['spatial_distances']>0]).flatten())\n",
    "        mean_dists.append(mean_dist)\n",
    "        median_dists.append(median_dist)\n",
    "\n",
    "    median_dist_dict[sid] = np.mean(median_dists)"
   ]
  },
  {
   "cell_type": "code",
   "execution_count": 4,
   "id": "eb10247f",
   "metadata": {},
   "outputs": [
    {
     "name": "stdout",
     "output_type": "stream",
     "text": [
      "{'CC/ACO': 23.57728268283302, 'CTX_L1/MEN': 22.134458488559748, 'CTX_L2/3': 21.799931867417346, 'CTX_L4/5/6': 24.813794964210643, 'STR_CP/ACB': 20.752420229228946, 'STR_LS/NDB': 19.819311916176606, 'VEN': 16.22758492467233}\n"
     ]
    }
   ],
   "source": [
    "print(median_dist_dict)"
   ]
  },
  {
   "cell_type": "markdown",
   "id": "b777ae38",
   "metadata": {},
   "source": [
    "# Reprogramming"
   ]
  },
  {
   "cell_type": "code",
   "execution_count": 5,
   "id": "06c914ae",
   "metadata": {},
   "outputs": [],
   "source": [
    "adata = sc.read_h5ad(\"results/clocks/anndata/reprogramming_spatialsmooth.h5ad\")"
   ]
  },
  {
   "cell_type": "code",
   "execution_count": null,
   "id": "6e86b626",
   "metadata": {},
   "outputs": [],
   "source": [
    "# By region\n",
    "\n",
    "sub_id = \"region\"\n",
    "sub_id2 = \"mouse_id\"\n",
    "\n",
    "median_dist_dict = {}\n",
    "\n",
    "for sid in np.unique(adata.obs[sub_id]):\n",
    "    mean_dists = []\n",
    "    median_dists = []\n",
    "    for sid2 in np.unique(adata.obs[sub_id2]):\n",
    "        sub_adata = adata[(adata.obs[sub_id]==sid)&(adata.obs[sub_id2]==sid2)]\n",
    "        build_spatial_graph(sub_adata, method=\"delaunay\")\n",
    "        mean_dist = sub_adata.obsp['spatial_distances'][sub_adata.obsp['spatial_distances']>0].mean()\n",
    "        median_dist = np.median(np.array(sub_adata.obsp['spatial_distances'][sub_adata.obsp['spatial_distances']>0]).flatten())\n",
    "        mean_dists.append(mean_dist)\n",
    "        median_dists.append(median_dist)\n",
    "\n",
    "    median_dist_dict[sid] = np.mean(median_dists)"
   ]
  },
  {
   "cell_type": "code",
   "execution_count": 7,
   "id": "26ac7843",
   "metadata": {},
   "outputs": [
    {
     "name": "stdout",
     "output_type": "stream",
     "text": [
      "{'CC/ACO': 23.64468336308264, 'CTX_L1/MEN': 20.536925931507863, 'CTX_L2/3': 21.04037750284547, 'CTX_L4/5/6': 24.05456885431489, 'STR_CP/ACB': 20.896227512408654, 'STR_LS/NDB': 20.17505733971367, 'VEN': 17.258839036280175}\n"
     ]
    }
   ],
   "source": [
    "print(median_dist_dict)"
   ]
  },
  {
   "cell_type": "markdown",
   "id": "4bd94510",
   "metadata": {},
   "source": [
    "# LPS"
   ]
  },
  {
   "cell_type": "code",
   "execution_count": 4,
   "id": "404d7e65",
   "metadata": {},
   "outputs": [
    {
     "name": "stderr",
     "output_type": "stream",
     "text": [
      "/local/scratch/edsun/slrmtmp.41934636/ipykernel_23720/765338297.py:6: ImplicitModificationWarning: Trying to modify attribute `.obs` of view, initializing view as actual.\n",
      "  adata.obs[\"cohort\"] = adata.obs[\"cohort\"].replace(\"aging\", \"control\")\n"
     ]
    }
   ],
   "source": [
    "adata = sc.read_h5ad(\"results/clocks/anndata/allen_aging_lps_spatialsmooth_spage.h5ad\")\n",
    "adata.obs[\"region\"] = adata.obs[\"tissue\"].copy()\n",
    "\n",
    "# subset into old group\n",
    "adata = adata[adata.obs.age==20.93]\n",
    "adata.obs[\"cohort\"] = adata.obs[\"cohort\"].replace(\"aging\", \"control\")"
   ]
  },
  {
   "cell_type": "code",
   "execution_count": 3,
   "id": "fcdda9c4",
   "metadata": {},
   "outputs": [],
   "source": [
    "# By region\n",
    "\n",
    "sub_id = \"region\"\n",
    "sub_id2 = \"mouse_id\"\n",
    "\n",
    "median_dist_dict = {}\n",
    "\n",
    "for sid in np.unique(adata.obs[sub_id]):\n",
    "    mean_dists = []\n",
    "    median_dists = []\n",
    "    for sid2 in np.unique(adata.obs[sub_id2]):\n",
    "        sub_adata = adata[(adata.obs[sub_id]==sid)&(adata.obs[sub_id2]==sid2)]\n",
    "        build_spatial_graph(sub_adata, method=\"delaunay\")\n",
    "        mean_dist = sub_adata.obsp['spatial_distances'][sub_adata.obsp['spatial_distances']>0].mean()\n",
    "        median_dist = np.median(np.array(sub_adata.obsp['spatial_distances'][sub_adata.obsp['spatial_distances']>0]).flatten())\n",
    "        mean_dists.append(mean_dist)\n",
    "        median_dists.append(median_dist)\n",
    "\n",
    "    median_dist_dict[sid] = np.mean(median_dists)"
   ]
  },
  {
   "cell_type": "code",
   "execution_count": 5,
   "id": "c973dd6c",
   "metadata": {},
   "outputs": [
    {
     "name": "stdout",
     "output_type": "stream",
     "text": [
      "{'brain ventricle': 34.945657872703606, 'corpus callosum': 24.93541068867991, 'cortical layer II/III': 25.962599056294216, 'cortical layer V': 26.37559593552028, 'cortical layer VI': 23.691288263852037, 'olfactory region': 26.61249396836906, 'pia mater': 34.800221767412104, 'striatum': 22.51435665983618}\n"
     ]
    }
   ],
   "source": [
    "print(median_dist_dict)"
   ]
  },
  {
   "cell_type": "markdown",
   "id": "fd2e752a",
   "metadata": {},
   "source": [
    "## Sagittal"
   ]
  },
  {
   "cell_type": "code",
   "execution_count": 2,
   "id": "f5f0c6ab",
   "metadata": {},
   "outputs": [],
   "source": [
    "adata = sc.read_h5ad(\"results/clocks/anndata/sagittal_spatialsmooth.h5ad\")"
   ]
  },
  {
   "cell_type": "code",
   "execution_count": null,
   "id": "955f9b40",
   "metadata": {},
   "outputs": [],
   "source": [
    "# By region\n",
    "\n",
    "sub_id = \"region\"\n",
    "sub_id2 = \"mouse_id\"\n",
    "\n",
    "median_dist_dict = {}\n",
    "\n",
    "for sid in np.unique(adata.obs[sub_id]):\n",
    "    mean_dists = []\n",
    "    median_dists = []\n",
    "    for sid2 in np.unique(adata.obs[sub_id2]):\n",
    "        sub_adata = adata[(adata.obs[sub_id]==sid)&(adata.obs[sub_id2]==sid2)]\n",
    "        build_spatial_graph(sub_adata, method=\"delaunay\")\n",
    "        mean_dist = sub_adata.obsp['spatial_distances'][sub_adata.obsp['spatial_distances']>0].mean()\n",
    "        median_dist = np.median(np.array(sub_adata.obsp['spatial_distances'][sub_adata.obsp['spatial_distances']>0]).flatten())\n",
    "        mean_dists.append(mean_dist)\n",
    "        median_dists.append(median_dist)\n",
    "\n",
    "    median_dist_dict[sid] = np.mean(median_dists)"
   ]
  },
  {
   "cell_type": "code",
   "execution_count": 4,
   "id": "6d3549a1",
   "metadata": {},
   "outputs": [
    {
     "name": "stdout",
     "output_type": "stream",
     "text": [
      "{'CB': 15.394862470464794, 'CTX': 21.06933225056534, 'Fiber_Tracts': 25.896191542083596, 'Midbrain': 26.320422293033786, 'OB': 13.387367993709681, 'STR': 22.149953971271987, 'Thalamus': 24.36885887006188, 'VEN': 19.109962161892053}\n"
     ]
    }
   ],
   "source": [
    "print(median_dist_dict)"
   ]
  },
  {
   "cell_type": "markdown",
   "id": "959fd635",
   "metadata": {},
   "source": [
    "## Androvic et al. (2023)"
   ]
  },
  {
   "cell_type": "code",
   "execution_count": 2,
   "id": "9db9e6f0",
   "metadata": {},
   "outputs": [],
   "source": [
    "adata = sc.read_h5ad(\"results/clocks/anndata/androvic_injuryMERFISH_spatialsmooth_spage.h5ad\")"
   ]
  },
  {
   "cell_type": "code",
   "execution_count": 3,
   "id": "4e87061c",
   "metadata": {},
   "outputs": [],
   "source": [
    "# By region\n",
    "\n",
    "sub_id = \"region\"\n",
    "sub_id2 = \"mouse_id\"\n",
    "\n",
    "median_dist_dict = {}\n",
    "\n",
    "for sid in np.unique(adata.obs[sub_id]):\n",
    "    mean_dists = []\n",
    "    median_dists = []\n",
    "    for sid2 in np.unique(adata.obs[sub_id2]):\n",
    "        sub_adata = adata[(adata.obs[sub_id]==sid)&(adata.obs[sub_id2]==sid2)]\n",
    "        build_spatial_graph(sub_adata, method=\"delaunay\")\n",
    "        mean_dist = sub_adata.obsp['spatial_distances'][sub_adata.obsp['spatial_distances']>0].mean()\n",
    "        median_dist = np.median(np.array(sub_adata.obsp['spatial_distances'][sub_adata.obsp['spatial_distances']>0]).flatten())\n",
    "        mean_dists.append(mean_dist)\n",
    "        median_dists.append(median_dist)\n",
    "\n",
    "    median_dist_dict[sid] = np.mean(median_dists)"
   ]
  },
  {
   "cell_type": "code",
   "execution_count": 4,
   "id": "d7d7725d",
   "metadata": {},
   "outputs": [
    {
     "name": "stdout",
     "output_type": "stream",
     "text": [
      "{'CC/ACO': 26.06641612723359, 'CTX_L1/MEN': 28.17350739859914, 'CTX_L2/3': 21.3979398838356, 'CTX_L4/5/6': 24.525997745306938, 'Injury': 20.037037430176763, 'STR_CP/ACB': 23.33022187080961, 'STR_LS/NDB': 30.331776284837883, 'VEN': 23.697030476398833}\n"
     ]
    }
   ],
   "source": [
    "print(median_dist_dict)"
   ]
  },
  {
   "cell_type": "markdown",
   "id": "4df0184d",
   "metadata": {},
   "source": [
    "## Kukanja et al. (2024)"
   ]
  },
  {
   "cell_type": "code",
   "execution_count": 4,
   "id": "89664e81",
   "metadata": {},
   "outputs": [],
   "source": [
    "adata = sc.read_h5ad(\"results/clocks/anndata/kukanja_ISSMS_spatialsmooth_spage.h5ad\")\n",
    "region_order = ['CC', 'Ctx', 'Meninges', 'SN_HY_SI', 'Striatum', 'Ventricle']\n",
    "adata = adata[adata.obs.region.isin(region_order)]"
   ]
  },
  {
   "cell_type": "code",
   "execution_count": 5,
   "id": "c2830a7c",
   "metadata": {},
   "outputs": [],
   "source": [
    "# By region\n",
    "\n",
    "sub_id = \"region\"\n",
    "sub_id2 = \"mouse_id\"\n",
    "\n",
    "median_dist_dict = {}\n",
    "\n",
    "for sid in np.unique(adata.obs[sub_id]):\n",
    "    mean_dists = []\n",
    "    median_dists = []\n",
    "    for sid2 in np.unique(adata.obs[sub_id2]):\n",
    "        sub_adata = adata[(adata.obs[sub_id]==sid)&(adata.obs[sub_id2]==sid2)]\n",
    "        build_spatial_graph(sub_adata, method=\"delaunay\")\n",
    "        mean_dist = sub_adata.obsp['spatial_distances'][sub_adata.obsp['spatial_distances']>0].mean()\n",
    "        median_dist = np.median(np.array(sub_adata.obsp['spatial_distances'][sub_adata.obsp['spatial_distances']>0]).flatten())\n",
    "        mean_dists.append(mean_dist)\n",
    "        median_dists.append(median_dist)\n",
    "\n",
    "    median_dist_dict[sid] = np.mean(median_dists)"
   ]
  },
  {
   "cell_type": "code",
   "execution_count": 6,
   "id": "ad68f1a7",
   "metadata": {},
   "outputs": [
    {
     "name": "stdout",
     "output_type": "stream",
     "text": [
      "{'CC': 160.3543410056812, 'Ctx': 156.86101330978414, 'Meninges': 190.07040645993268, 'SN_HY_SI': 139.57655479131208, 'Striatum': 150.29463910644205, 'Ventricle': 115.92200524181204}\n"
     ]
    }
   ],
   "source": [
    "print(median_dist_dict)"
   ]
  },
  {
   "cell_type": "code",
   "execution_count": null,
   "id": "6cc5cbc5",
   "metadata": {},
   "outputs": [],
   "source": []
  }
 ],
 "metadata": {
  "kernelspec": {
   "display_name": "merfish",
   "language": "python",
   "name": "merfish"
  },
  "language_info": {
   "codemirror_mode": {
    "name": "ipython",
    "version": 3
   },
   "file_extension": ".py",
   "mimetype": "text/x-python",
   "name": "python",
   "nbconvert_exporter": "python",
   "pygments_lexer": "ipython3",
   "version": "3.8.13"
  }
 },
 "nbformat": 4,
 "nbformat_minor": 5
}
